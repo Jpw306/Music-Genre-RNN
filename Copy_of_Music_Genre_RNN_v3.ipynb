{
  "nbformat": 4,
  "nbformat_minor": 0,
  "metadata": {
    "colab": {
      "provenance": [],
      "gpuType": "T4",
      "include_colab_link": true
    },
    "kernelspec": {
      "name": "python3",
      "display_name": "Python 3"
    },
    "language_info": {
      "name": "python"
    },
    "accelerator": "GPU"
  },
  "cells": [
    {
      "cell_type": "markdown",
      "metadata": {
        "id": "view-in-github",
        "colab_type": "text"
      },
      "source": [
        "<a href=\"https://colab.research.google.com/github/Jpw306/Music-Genre-RNN/blob/main/Copy_of_Music_Genre_RNN_v3.ipynb\" target=\"_parent\"><img src=\"https://colab.research.google.com/assets/colab-badge.svg\" alt=\"Open In Colab\"/></a>"
      ]
    },
    {
      "cell_type": "markdown",
      "source": [
        "Import Libraries"
      ],
      "metadata": {
        "id": "YF1ARFfa1LgB"
      }
    },
    {
      "cell_type": "code",
      "execution_count": 1,
      "metadata": {
        "id": "QbIVfCjvRCHT"
      },
      "outputs": [],
      "source": [
        "import numpy as np\n",
        "import librosa\n",
        "import matplotlib.pyplot as plt\n",
        "import pandas as pd\n",
        "import math"
      ]
    },
    {
      "cell_type": "markdown",
      "source": [
        "Parse Music Data"
      ],
      "metadata": {
        "id": "OHhHMInX1g28"
      }
    },
    {
      "cell_type": "code",
      "source": [
        "# Import CSV File\n",
        "df = pd.read_csv(\"features_3_sec.csv\")\n",
        "\n",
        "# Seperate columns into features\n",
        "chroma_mean = df[\"chroma_stft_mean\"].to_numpy()\n",
        "chroma_var = df[\"chroma_stft_var\"].to_numpy()\n",
        "rms_mean = df[\"rms_mean\"].to_numpy()\n",
        "rms_var = df[\"rms_var\"].to_numpy()\n",
        "scm = df[\"spectral_centroid_mean\"].to_numpy()\n",
        "scv = df[\"spectral_centroid_var\"].to_numpy()\n",
        "sbm = df[\"spectral_bandwidth_mean\"].to_numpy()\n",
        "sbv = df[\"spectral_bandwidth_var\"].to_numpy()\n",
        "\n",
        "# Convert label from string to int\n",
        "map = {}\n",
        "y = []\n",
        "for label in df['label']:\n",
        "  if label not in map:\n",
        "    map.update({label: len(map)})\n",
        "  y.append(map.get(label))"
      ],
      "metadata": {
        "id": "dEqjL07OAjbB"
      },
      "execution_count": 2,
      "outputs": []
    },
    {
      "cell_type": "markdown",
      "source": [
        "Normalize Music Data"
      ],
      "metadata": {
        "id": "MGjKXkbs1ygC"
      }
    },
    {
      "cell_type": "code",
      "source": [
        "features = [chroma_mean, chroma_var, rms_mean, rms_var, scm, scv, sbm, sbv]\n",
        "\n",
        "# normalize between -1 and 1\n",
        "def normalize_range(arr):\n",
        "  arr_min = arr.min()\n",
        "  arr_max = arr.max()\n",
        "  for i in range(len(arr)):\n",
        "    arr[i] = (2 * (arr[i] - arr_min) / (arr_max - arr_min)) -1\n",
        "\n",
        "# normalize all data\n",
        "for x in features:\n",
        "  normalize_range(x)"
      ],
      "metadata": {
        "id": "DeoJnhCy11hN"
      },
      "execution_count": 3,
      "outputs": []
    },
    {
      "cell_type": "markdown",
      "source": [
        "Set up RNN"
      ],
      "metadata": {
        "id": "JW1Qrw-X12BM"
      }
    },
    {
      "cell_type": "markdown",
      "source": [
        "Initializing parameters and weight"
      ],
      "metadata": {
        "id": "G_SQI9Hj2Lh2"
      }
    },
    {
      "cell_type": "code",
      "source": [
        "input_size = 8 # number of features\n",
        "output_size = 2 # number of genres to detect (subject to change)\n",
        "hidden_size = math.floor(input_size * 2 / 3) + output_size # (2/3 input size) + output size\n",
        "\n",
        "# INITIALIZE WEIGHTS\n",
        "# initalize weights for inputs to hidden layer\n",
        "u = np.random.rand(input_size, hidden_size)\n",
        "\n",
        "# initialize weights for hidden layer to hidden layer\n",
        "w = np.random.rand(hidden_size, hidden_size)\n",
        "\n",
        "# initialize weights for hidden layer to output layer\n",
        "v = np.random.rand(output_size, hidden_size)\n",
        "\n",
        "# INITIALIZE BIASES\n",
        "# initialize bias for inputs to hidden layer\n",
        "b_ih = np.random.rand(hidden_size)\n",
        "\n",
        "# initialize bias for hidden layer to hidden layer\n",
        "b_hh = np.random.rand(hidden_size)\n",
        "\n",
        "# initialize bias for hidden layer to output\n",
        "b_ho = np.random.rand(output_size)"
      ],
      "metadata": {
        "id": "Hm6l7V8W14v2"
      },
      "execution_count": 4,
      "outputs": []
    },
    {
      "cell_type": "markdown",
      "source": [
        "Get all features from a sample"
      ],
      "metadata": {
        "id": "RK4EYdUDfHHB"
      }
    },
    {
      "cell_type": "code",
      "source": [
        "\"\"\"\n",
        "Given an index of test data, return all features for that sample\n",
        "\"\"\"\n",
        "def get_features(sample_index):\n",
        "  return_arr = [x[sample_index] for x in features]\n",
        "  return return_arr\n",
        "\n",
        "print(get_features(0))\n"
      ],
      "metadata": {
        "colab": {
          "base_uri": "https://localhost:8080/"
        },
        "id": "22MItsutfL4k",
        "outputId": "4e6f6f51-0306-45c8-dbb1-b21aaa0f1f15"
      },
      "execution_count": 5,
      "outputs": [
        {
          "output_type": "stream",
          "name": "stdout",
          "text": [
            "[-0.28920239345338317, 0.43351398236789285, -0.4137334798119917, -0.784090682893563, -0.47565414285940366, -0.9304322634294081, -0.08159019673048362, -0.8117405004376876]\n"
          ]
        }
      ]
    },
    {
      "cell_type": "markdown",
      "source": [
        "Recurrence Neural Network (Forward)"
      ],
      "metadata": {
        "id": "GZua-VuJXpPC"
      }
    },
    {
      "cell_type": "code",
      "source": [
        "\"\"\"\n",
        "This function does 1 iteration of a recurrence neural network training model\n",
        "it takes in two arguments:\n",
        "   mem_h:\n",
        "     The current state of the hidden layer either calculated in previous rounds\n",
        "       or defined as h_-1\n",
        "\n",
        "   features_x:\n",
        "     The features of the current audio sample. This is assumed to be from the\n",
        "       list of 8 features defined earlier. This will be used in calculating the\n",
        "       hidden layer state.\n",
        "\"\"\"\n",
        "def RNN(mem_h, features_x):\n",
        "  # update state of memory\n",
        "  mem_h = np.add(\n",
        "      np.add(np.dot(w, mem_h), b_hh),\n",
        "      np.add(np.dot(features_x, u), b_ih)\n",
        "  )\n",
        "\n",
        "  # calculate output Y\n",
        "  # this will only be used on the final iteration of RNN\n",
        "  output_y = np.add(\n",
        "      np.dot(v, mem_h),\n",
        "      b_ho\n",
        "  )\n",
        "\n",
        "  return mem_h, output_y\n"
      ],
      "metadata": {
        "id": "ys1YTx5ZSGDQ"
      },
      "execution_count": 6,
      "outputs": []
    },
    {
      "cell_type": "markdown",
      "source": [
        "RNN Wrapper Function"
      ],
      "metadata": {
        "id": "QUWUussraxO_"
      }
    },
    {
      "cell_type": "code",
      "source": [
        "\"\"\"\n",
        "Target specifies a 30 second sample to pick. When selecting a target, the number\n",
        "is multiplied by 10 and iterated upon\n",
        "\"\"\"\n",
        "def RNN_Wrapper(target):\n",
        "\n",
        "  # initialize hidden memory with identity matrix\n",
        "  init_mem_h = np.ones(hidden_size)\n",
        "\n",
        "  # define containers for storing state\n",
        "  hidden_states = np.zeros((10 + 1, hidden_size))\n",
        "  hidden_states[0] = init_mem_h # initialize with filler value\n",
        "\n",
        "  outputs = np.zeros((10, output_size))\n",
        "\n",
        "  # loop through each round\n",
        "  for i in range(10):\n",
        "    print('Round: ' + str(i))\n",
        "    true_target = (target * 10) + i\n",
        "    hidden_states[i + 1], outputs[i] = RNN(hidden_states[i], get_features(true_target))\n",
        "    print('output: ', outputs[i])\n",
        "    print('hidden state: ', hidden_states[i+1])\n",
        "\n",
        "  return hidden_states, outputs\n",
        "\n",
        "RNN_Wrapper(0)"
      ],
      "metadata": {
        "colab": {
          "base_uri": "https://localhost:8080/"
        },
        "id": "Iz_51tMlazgY",
        "outputId": "49493d38-a1b4-486f-8b7c-352a42642f4a"
      },
      "execution_count": 7,
      "outputs": [
        {
          "output_type": "stream",
          "name": "stdout",
          "text": [
            "Round: 0\n",
            "output:  [9.04391776 9.08418157]\n",
            "hidden state:  [1.81362676 2.16045125 4.67890796 1.20664635 1.28763516 4.17960451\n",
            " 3.57683175]\n",
            "Round: 1\n",
            "output:  [26.04727472 29.05141126]\n",
            "hidden state:  [ 8.09296653  6.69696963 11.81287103  3.42111424  3.59902797 13.83604396\n",
            " 11.31983111]\n",
            "Round: 2\n",
            "output:  [85.9923342  97.38912015]\n",
            "hidden state:  [29.44733536 25.86148962 34.72320416 12.75192486 15.94149614 44.57928366\n",
            " 35.66308094]\n",
            "Round: 3\n",
            "output:  [295.62837066 332.70935503]\n",
            "hidden state:  [101.22666943  92.47593016 115.79421983  48.42250769  60.94419915\n",
            " 150.82863155 118.36988804]\n",
            "Round: 4\n",
            "output:  [1029.09639084 1154.22456393]\n",
            "hidden state:  [350.30713586 324.24200124 401.89656288 173.9767326  217.81606971\n",
            " 519.9570582  409.59110084]\n",
            "Round: 5\n",
            "output:  [3591.33480226 4024.09547632]\n",
            "hidden state:  [1220.09067356 1131.9822973  1402.02743455  612.58151616  764.45222935\n",
            " 1810.67694713 1428.41684841]\n",
            "Round: 6\n",
            "output:  [12537.71393523 14047.19760161]\n",
            "hidden state:  [4258.54374251 3952.34956049 4894.62318356 2141.31504713 2671.33995467\n",
            " 6318.59998108 4987.91126832]\n",
            "Round: 7\n",
            "output:  [43775.40464669 49046.17982133]\n",
            "hidden state:  [14869.72995682 13800.47130918 17088.05763438  7478.53300914\n",
            "  9329.07274218 22060.72401856 17415.62776535]\n",
            "Round: 8\n",
            "output:  [152852.3518046  171256.53764696]\n",
            "hidden state:  [51922.31910013 48190.0409824  59664.08029343 26115.39745098\n",
            " 32578.71600484 77028.95960648 60809.88322176]\n",
            "Round: 9\n",
            "output:  [533730.93769463 597993.64587426]\n",
            "hidden state:  [181302.93208335 168273.0640713  208332.46971714  91193.56689461\n",
            " 113763.46641262 268968.70621297 212333.97702125]\n"
          ]
        },
        {
          "output_type": "execute_result",
          "data": {
            "text/plain": [
              "(array([[1.00000000e+00, 1.00000000e+00, 1.00000000e+00, 1.00000000e+00,\n",
              "         1.00000000e+00, 1.00000000e+00, 1.00000000e+00],\n",
              "        [1.81362676e+00, 2.16045125e+00, 4.67890796e+00, 1.20664635e+00,\n",
              "         1.28763516e+00, 4.17960451e+00, 3.57683175e+00],\n",
              "        [8.09296653e+00, 6.69696963e+00, 1.18128710e+01, 3.42111424e+00,\n",
              "         3.59902797e+00, 1.38360440e+01, 1.13198311e+01],\n",
              "        [2.94473354e+01, 2.58614896e+01, 3.47232042e+01, 1.27519249e+01,\n",
              "         1.59414961e+01, 4.45792837e+01, 3.56630809e+01],\n",
              "        [1.01226669e+02, 9.24759302e+01, 1.15794220e+02, 4.84225077e+01,\n",
              "         6.09441992e+01, 1.50828632e+02, 1.18369888e+02],\n",
              "        [3.50307136e+02, 3.24242001e+02, 4.01896563e+02, 1.73976733e+02,\n",
              "         2.17816070e+02, 5.19957058e+02, 4.09591101e+02],\n",
              "        [1.22009067e+03, 1.13198230e+03, 1.40202743e+03, 6.12581516e+02,\n",
              "         7.64452229e+02, 1.81067695e+03, 1.42841685e+03],\n",
              "        [4.25854374e+03, 3.95234956e+03, 4.89462318e+03, 2.14131505e+03,\n",
              "         2.67133995e+03, 6.31859998e+03, 4.98791127e+03],\n",
              "        [1.48697300e+04, 1.38004713e+04, 1.70880576e+04, 7.47853301e+03,\n",
              "         9.32907274e+03, 2.20607240e+04, 1.74156278e+04],\n",
              "        [5.19223191e+04, 4.81900410e+04, 5.96640803e+04, 2.61153975e+04,\n",
              "         3.25787160e+04, 7.70289596e+04, 6.08098832e+04],\n",
              "        [1.81302932e+05, 1.68273064e+05, 2.08332470e+05, 9.11935669e+04,\n",
              "         1.13763466e+05, 2.68968706e+05, 2.12333977e+05]]),\n",
              " array([[9.04391776e+00, 9.08418157e+00],\n",
              "        [2.60472747e+01, 2.90514113e+01],\n",
              "        [8.59923342e+01, 9.73891201e+01],\n",
              "        [2.95628371e+02, 3.32709355e+02],\n",
              "        [1.02909639e+03, 1.15422456e+03],\n",
              "        [3.59133480e+03, 4.02409548e+03],\n",
              "        [1.25377139e+04, 1.40471976e+04],\n",
              "        [4.37754046e+04, 4.90461798e+04],\n",
              "        [1.52852352e+05, 1.71256538e+05],\n",
              "        [5.33730938e+05, 5.97993646e+05]]))"
            ]
          },
          "metadata": {},
          "execution_count": 7
        }
      ]
    },
    {
      "cell_type": "markdown",
      "source": [
        "Activation and Cost Function"
      ],
      "metadata": {
        "id": "83ab0ZYItHY8"
      }
    },
    {
      "cell_type": "code",
      "source": [
        "def softmax(x, derivative = False):\n",
        "  e = np.exp(x)\n",
        "  softmax =  e / np.sum(e)\n",
        "\n",
        "  if not derivative:\n",
        "    return softmax\n",
        "  else:\n",
        "    softmax = softmax.reshape(-1, 1)\n",
        "    return np.diagflat(softmax) - np.dot(softmax, softmax.T)\n",
        "\n",
        "def cost_function(p, q, derivative = False):\n",
        "  sum = 0\n",
        "\n",
        "  # Find derivative for back progpogation implementation\n",
        "  if derivative:\n",
        "    for i in range(p.size):\n",
        "      sum += math.log(p[i]/q[i]) + 1\n",
        "\n",
        "  # Find standard cost from expected output\n",
        "  else:\n",
        "    for i in range(p.size):\n",
        "      sum += p[i] * math.log(p[i]/q[i], 10)\n",
        "\n",
        "  return sum"
      ],
      "metadata": {
        "id": "VP2LbJ1OtKyl"
      },
      "execution_count": 8,
      "outputs": []
    },
    {
      "cell_type": "markdown",
      "source": [
        "Gradient Descent Function"
      ],
      "metadata": {
        "id": "hZegBQ3TtN2L"
      }
    },
    {
      "cell_type": "code",
      "source": [
        "def gradient_descent():\n",
        "  # TODO\n",
        "  return;"
      ],
      "metadata": {
        "id": "2azFQwuetQQU"
      },
      "execution_count": 9,
      "outputs": []
    },
    {
      "cell_type": "markdown",
      "source": [
        "Back Propagation"
      ],
      "metadata": {
        "id": "KlwQ4YKMtUBE"
      }
    },
    {
      "cell_type": "code",
      "source": [
        "def back_progpagation(y_hat, y, h, w):\n",
        "  for layer in range(h.size):\n",
        "    d_activation = softmax(h[layer], True)\n",
        "\n",
        "    # Check if back propagation in final layer\n",
        "    if layer == 0:\n",
        "      d_error = cost_function(y_hat, y, True)\n",
        "    else:\n",
        "      d_error = np.dot(delta, np.transpose(w))\n",
        "\n",
        "    delta = np.dot(d_error, d_activation)\n",
        "    gradient = np.dot(h[layer], delta)\n",
        "    gradient_descent()"
      ],
      "metadata": {
        "id": "PJuWL8JAtWbc"
      },
      "execution_count": 10,
      "outputs": []
    }
  ]
}