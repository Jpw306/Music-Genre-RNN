{
  "nbformat": 4,
  "nbformat_minor": 0,
  "metadata": {
    "colab": {
      "provenance": [],
      "authorship_tag": "ABX9TyN0oJAfpYJiaGZ43sHf1RID",
      "include_colab_link": true
    },
    "kernelspec": {
      "name": "python3",
      "display_name": "Python 3"
    },
    "language_info": {
      "name": "python"
    }
  },
  "cells": [
    {
      "cell_type": "markdown",
      "metadata": {
        "id": "view-in-github",
        "colab_type": "text"
      },
      "source": [
        "<a href=\"https://colab.research.google.com/github/Jpw306/Music-Genre-RNN/blob/main/Music_Genre_RNN_with_LSTM.ipynb\" target=\"_parent\"><img src=\"https://colab.research.google.com/assets/colab-badge.svg\" alt=\"Open In Colab\"/></a>"
      ]
    },
    {
      "cell_type": "markdown",
      "source": [
        "Import Libraries"
      ],
      "metadata": {
        "id": "CTZ7TANRmHhA"
      }
    },
    {
      "cell_type": "code",
      "execution_count": 5,
      "metadata": {
        "id": "jpuIApmAmAxw"
      },
      "outputs": [],
      "source": [
        "import numpy as np\n",
        "import librosa\n",
        "import matplotlib.pyplot as plt\n",
        "import pandas as pd\n",
        "import math\n",
        "import random"
      ]
    },
    {
      "cell_type": "markdown",
      "source": [
        "Parse Music Data"
      ],
      "metadata": {
        "id": "qgOo8U17mNlz"
      }
    },
    {
      "cell_type": "code",
      "source": [
        "# Import CSV File\n",
        "df = pd.read_csv(\"features_3_sec.csv\")\n",
        "\n",
        "# Seperate columns into features\n",
        "chroma_mean = df[\"chroma_stft_mean\"].to_numpy()\n",
        "chroma_var = df[\"chroma_stft_var\"].to_numpy()\n",
        "rms_mean = df[\"rms_mean\"].to_numpy()\n",
        "rms_var = df[\"rms_var\"].to_numpy()\n",
        "scm = df[\"spectral_centroid_mean\"].to_numpy()\n",
        "scv = df[\"spectral_centroid_var\"].to_numpy()\n",
        "sbm = df[\"spectral_bandwidth_mean\"].to_numpy()\n",
        "sbv = df[\"spectral_bandwidth_var\"].to_numpy()\n",
        "\n",
        "# Convert label from string to int\n",
        "map = {}\n",
        "y = []\n",
        "for label in df['label']:\n",
        "  if label not in map:\n",
        "    map.update({label: len(map)})\n",
        "  y.append(map.get(label))"
      ],
      "metadata": {
        "id": "vVQN5MZ3mP7r"
      },
      "execution_count": 46,
      "outputs": []
    },
    {
      "cell_type": "markdown",
      "source": [
        "Normalize Music Data"
      ],
      "metadata": {
        "id": "zu_IFWw4mZQ7"
      }
    },
    {
      "cell_type": "code",
      "source": [
        "features = [chroma_mean, chroma_var, rms_mean, rms_var, scm, scv, sbm, sbv]\n",
        "\n",
        "# normalize between -1 and 1\n",
        "def normalize_range(arr):\n",
        "  arr_min = arr.min()\n",
        "  arr_max = arr.max()\n",
        "  for i in range(len(arr)):\n",
        "    arr[i] = (2 * (arr[i] - arr_min) / (arr_max - arr_min)) -1\n",
        "\n",
        "# normalize all data\n",
        "for x in features:\n",
        "  normalize_range(x)"
      ],
      "metadata": {
        "id": "pKjtKpIxmZ9L"
      },
      "execution_count": 47,
      "outputs": []
    },
    {
      "cell_type": "markdown",
      "source": [
        "Some Constants"
      ],
      "metadata": {
        "id": "mgGQSZXbrSC_"
      }
    },
    {
      "cell_type": "code",
      "source": [
        "input_size = 8 # number of features\n",
        "output_size = len(df[\"label\"].unique()) # number of genres to detect (subject to change)\n",
        "hidden_size = math.floor(input_size * 2 / 3) + output_size # (2/3 input size) + output size"
      ],
      "metadata": {
        "id": "0qGUrNp-rThr"
      },
      "execution_count": 4,
      "outputs": []
    },
    {
      "cell_type": "markdown",
      "source": [
        "Some Functions"
      ],
      "metadata": {
        "id": "F9Av0tJf3IJ3"
      }
    },
    {
      "cell_type": "code",
      "source": [
        "\"\"\"\n",
        "Given an index of test data, return all features for that sample\n",
        "\"\"\"\n",
        "def get_features(sample_index):\n",
        "  return_arr = [x[sample_index] for x in features]\n",
        "  return np.array(return_arr).reshape(input_size, 1).T"
      ],
      "metadata": {
        "id": "-ql2UNj83NOu"
      },
      "execution_count": 94,
      "outputs": []
    },
    {
      "cell_type": "markdown",
      "source": [
        "Set up RNN / LSTM"
      ],
      "metadata": {
        "id": "LJUTQaJHmbve"
      }
    },
    {
      "cell_type": "code",
      "source": [
        "\"\"\"WEIGHTS:\"\"\"\n",
        "\n",
        "# calculate range for weights\n",
        "# using xavier initialization\n",
        "lower_x, upper_x = -1 / math.sqrt(input_size), 1 / math.sqrt(input_size) # input range for x_t\n",
        "lower_h, upper_h = -1 / math.sqrt(hidden_size), 1 / math.sqrt(hidden_size) # input range for h_t-1\n",
        "\n",
        "# function for h_size feedback neurons\n",
        "def h_size_feedback():\n",
        "  return np.random.uniform(lower_h, upper_h, (hidden_size, hidden_size))\n",
        "\n",
        "def x_size_feedback():\n",
        "  return np.random.uniform(lower_x, upper_x, (input_size, hidden_size))\n",
        "\n",
        "# notation: (W)eight_(t)o(f)rom\n",
        "W_fh = h_size_feedback() # weight into forget gate from h_t-1\n",
        "W_fx = x_size_feedback() # weight into forget gate from x_t (current input)\n",
        "W_ih = h_size_feedback() # weight into input gate from h_t-1 (For input gate)\n",
        "W_ix = x_size_feedback() # weight into input gate from x_t (For input gate)\n",
        "W_ch = h_size_feedback() # weight into input gate from h_t-1 (For candidate memory)\n",
        "W_cx = x_size_feedback() # weight into input gate from x_t (For candidate memory)\n",
        "W_oh = h_size_feedback() # weight into output gate from h_t-1\n",
        "W_ox = x_size_feedback() # weight into output gate from x_t\n",
        "\n",
        "weights = [W_fh, W_fx, W_ih, W_ix, W_ch, W_cx, W_oh, W_ox]\n",
        "\n",
        "\"\"\"BIASES:\"\"\"\n",
        "\n",
        "# notation: (B)ias_(t)o\n",
        "b_f = np.ones([hidden_size, 1]) # bias for forget gate\n",
        "b_i = np.ones([hidden_size, 1]) # bias for input gate\n",
        "b_c = np.ones([hidden_size, 1]) # bias for candidate memory\n",
        "b_o = np.ones([hidden_size, 1]) # bias for output gate\n",
        "\n",
        "biases = [b_f, b_i, b_c, b_o]"
      ],
      "metadata": {
        "id": "ogPgzl0AmgVP"
      },
      "execution_count": 16,
      "outputs": []
    },
    {
      "cell_type": "markdown",
      "source": [
        "Common Functions"
      ],
      "metadata": {
        "id": "HOuasKuEwtmG"
      }
    },
    {
      "cell_type": "code",
      "source": [
        "def sigmoid(x):\n",
        "  return 1 / (1 + np.exp(-x))\n",
        "\n",
        "\"\"\" BUILT IN NUMPY FUNCTIONS TO USE \"\"\"\n",
        "# np.add() for element wise addition\n",
        "# np.tanh() for tanh\n",
        "# hadamard via * multiplication"
      ],
      "metadata": {
        "colab": {
          "base_uri": "https://localhost:8080/",
          "height": 35
        },
        "id": "ubUtj81ZwwFp",
        "outputId": "795c4745-c97f-44c2-c38b-8337678197cd"
      },
      "execution_count": 64,
      "outputs": [
        {
          "output_type": "execute_result",
          "data": {
            "text/plain": [
              "' BUILT IN NUMPY FUNCTIONS TO USE '"
            ],
            "application/vnd.google.colaboratory.intrinsic+json": {
              "type": "string"
            }
          },
          "metadata": {},
          "execution_count": 64
        }
      ]
    },
    {
      "cell_type": "markdown",
      "source": [
        "LSTM Cell"
      ],
      "metadata": {
        "id": "EOT-_1UB0hy_"
      }
    },
    {
      "cell_type": "code",
      "source": [
        "def LSTM_cell(c_t, h_t, x_t):\n",
        "  # Forget Gate\n",
        "  f_t = np.dot(W_fh, h_t) + np.dot(x_t, W_fx) + b_f\n",
        "  f_out = sigmoid(f_t)\n",
        "  c_t = np.multiply(c_t, f_out)\n",
        "\n",
        "  # Input Gate\n",
        "  i_t = np.dot(W_ih, h_t) + np.dot(x_t, W_ix) + b_i\n",
        "  i_out = sigmoid(i_t)\n",
        "  cand_t = np.dot(h_t.T, W_ch) + np.dot(x_t, W_cx) + b_c\n",
        "  cand_out = np.multiply(i_out, np.tanh(cand_t))\n",
        "  c_t = np.add(c_t, cand_out)\n",
        "\n",
        "  # Output Gate\n",
        "  o_t = np.dot(W_oh, h_t) + np.dot(x_t, W_ox) + b_o\n",
        "  o_out = sigmoid(o_t)\n",
        "  h_t = np.multiply(np.tanh(c_t), o_out)\n",
        "\n",
        "  return c_t, h_t\n",
        "\n",
        "def LSTM_wrapper(num_rounds, data_index):\n",
        "  # Define Cell and Hidden states\n",
        "  c_t_mem = np.zeros([num_rounds + 1, hidden_size])\n",
        "  h_t_mem = np.zeros([num_rounds + 1, hidden_size])\n",
        "  print(c_t_mem.shape)\n",
        "  print(h_t_mem.shape)\n",
        "\n",
        "  # Create -1st entry for memory lines\n",
        "  c_t_mem[0] = np.zeros(hidden_size)\n",
        "  h_t_mem[0] = np.zeros(hidden_size)\n",
        "\n",
        "  actual_index = data_index * 10\n",
        "\n",
        "  for i in range(num_rounds):\n",
        "    c_t_cur = c_t_mem[i].reshape(hidden_size, 1)\n",
        "    h_t_cur = h_t_mem[i].reshape(hidden_size, 1)\n",
        "    c_t_mem[i + 1], h_t_mem[i + 1] = LSTM_cell(c_t_cur, h_t_cur, get_features(actual_index + i))\n",
        "\n",
        "  return c_t_mem, h_t_mem\n",
        "\n",
        "res = LSTM_wrapper(10, 0)\n",
        "print(res[0])\n",
        "print(res[1])"
      ],
      "metadata": {
        "colab": {
          "base_uri": "https://localhost:8080/",
          "height": 384
        },
        "id": "FmthsIkZ0lZa",
        "outputId": "a778c300-e80b-4b1a-a9ca-2c8a5bc465bf"
      },
      "execution_count": 107,
      "outputs": [
        {
          "output_type": "stream",
          "name": "stdout",
          "text": [
            "(11, 15)\n",
            "(11, 15)\n"
          ]
        },
        {
          "output_type": "error",
          "ename": "ValueError",
          "evalue": "could not broadcast input array from shape (15,15) into shape (15,)",
          "traceback": [
            "\u001b[0;31m---------------------------------------------------------------------------\u001b[0m",
            "\u001b[0;31mValueError\u001b[0m                                Traceback (most recent call last)",
            "\u001b[0;32m<ipython-input-107-a27bd3f66a11>\u001b[0m in \u001b[0;36m<cell line: 41>\u001b[0;34m()\u001b[0m\n\u001b[1;32m     39\u001b[0m   \u001b[0;32mreturn\u001b[0m \u001b[0mc_t_mem\u001b[0m\u001b[0;34m,\u001b[0m \u001b[0mh_t_mem\u001b[0m\u001b[0;34m\u001b[0m\u001b[0;34m\u001b[0m\u001b[0m\n\u001b[1;32m     40\u001b[0m \u001b[0;34m\u001b[0m\u001b[0m\n\u001b[0;32m---> 41\u001b[0;31m \u001b[0mres\u001b[0m \u001b[0;34m=\u001b[0m \u001b[0mLSTM_wrapper\u001b[0m\u001b[0;34m(\u001b[0m\u001b[0;36m10\u001b[0m\u001b[0;34m,\u001b[0m \u001b[0;36m0\u001b[0m\u001b[0;34m)\u001b[0m\u001b[0;34m\u001b[0m\u001b[0;34m\u001b[0m\u001b[0m\n\u001b[0m\u001b[1;32m     42\u001b[0m \u001b[0mprint\u001b[0m\u001b[0;34m(\u001b[0m\u001b[0mres\u001b[0m\u001b[0;34m[\u001b[0m\u001b[0;36m0\u001b[0m\u001b[0;34m]\u001b[0m\u001b[0;34m)\u001b[0m\u001b[0;34m\u001b[0m\u001b[0;34m\u001b[0m\u001b[0m\n\u001b[1;32m     43\u001b[0m \u001b[0mprint\u001b[0m\u001b[0;34m(\u001b[0m\u001b[0mres\u001b[0m\u001b[0;34m[\u001b[0m\u001b[0;36m1\u001b[0m\u001b[0;34m]\u001b[0m\u001b[0;34m)\u001b[0m\u001b[0;34m\u001b[0m\u001b[0;34m\u001b[0m\u001b[0m\n",
            "\u001b[0;32m<ipython-input-107-a27bd3f66a11>\u001b[0m in \u001b[0;36mLSTM_wrapper\u001b[0;34m(num_rounds, data_index)\u001b[0m\n\u001b[1;32m     35\u001b[0m     \u001b[0mc_t_cur\u001b[0m \u001b[0;34m=\u001b[0m \u001b[0mc_t_mem\u001b[0m\u001b[0;34m[\u001b[0m\u001b[0mi\u001b[0m\u001b[0;34m]\u001b[0m\u001b[0;34m.\u001b[0m\u001b[0mreshape\u001b[0m\u001b[0;34m(\u001b[0m\u001b[0mhidden_size\u001b[0m\u001b[0;34m,\u001b[0m \u001b[0;36m1\u001b[0m\u001b[0;34m)\u001b[0m\u001b[0;34m\u001b[0m\u001b[0;34m\u001b[0m\u001b[0m\n\u001b[1;32m     36\u001b[0m     \u001b[0mh_t_cur\u001b[0m \u001b[0;34m=\u001b[0m \u001b[0mh_t_mem\u001b[0m\u001b[0;34m[\u001b[0m\u001b[0mi\u001b[0m\u001b[0;34m]\u001b[0m\u001b[0;34m.\u001b[0m\u001b[0mreshape\u001b[0m\u001b[0;34m(\u001b[0m\u001b[0mhidden_size\u001b[0m\u001b[0;34m,\u001b[0m \u001b[0;36m1\u001b[0m\u001b[0;34m)\u001b[0m\u001b[0;34m\u001b[0m\u001b[0;34m\u001b[0m\u001b[0m\n\u001b[0;32m---> 37\u001b[0;31m     \u001b[0mc_t_mem\u001b[0m\u001b[0;34m[\u001b[0m\u001b[0mi\u001b[0m \u001b[0;34m+\u001b[0m \u001b[0;36m1\u001b[0m\u001b[0;34m]\u001b[0m\u001b[0;34m,\u001b[0m \u001b[0mh_t_mem\u001b[0m\u001b[0;34m[\u001b[0m\u001b[0mi\u001b[0m \u001b[0;34m+\u001b[0m \u001b[0;36m1\u001b[0m\u001b[0;34m]\u001b[0m \u001b[0;34m=\u001b[0m \u001b[0mLSTM_cell\u001b[0m\u001b[0;34m(\u001b[0m\u001b[0mc_t_cur\u001b[0m\u001b[0;34m,\u001b[0m \u001b[0mh_t_cur\u001b[0m\u001b[0;34m,\u001b[0m \u001b[0mget_features\u001b[0m\u001b[0;34m(\u001b[0m\u001b[0mactual_index\u001b[0m \u001b[0;34m+\u001b[0m \u001b[0mi\u001b[0m\u001b[0;34m)\u001b[0m\u001b[0;34m)\u001b[0m\u001b[0;34m\u001b[0m\u001b[0;34m\u001b[0m\u001b[0m\n\u001b[0m\u001b[1;32m     38\u001b[0m \u001b[0;34m\u001b[0m\u001b[0m\n\u001b[1;32m     39\u001b[0m   \u001b[0;32mreturn\u001b[0m \u001b[0mc_t_mem\u001b[0m\u001b[0;34m,\u001b[0m \u001b[0mh_t_mem\u001b[0m\u001b[0;34m\u001b[0m\u001b[0;34m\u001b[0m\u001b[0m\n",
            "\u001b[0;31mValueError\u001b[0m: could not broadcast input array from shape (15,15) into shape (15,)"
          ]
        }
      ]
    }
  ]
}